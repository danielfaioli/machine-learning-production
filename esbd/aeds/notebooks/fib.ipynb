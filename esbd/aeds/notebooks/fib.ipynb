{
 "cells": [
  {
   "cell_type": "code",
   "execution_count": 1,
   "metadata": {},
   "outputs": [],
   "source": [
    "import sys\n",
    "\n",
    "sys.setrecursionlimit(3000)"
   ]
  },
  {
   "cell_type": "markdown",
   "metadata": {},
   "source": [
    "# Naive Recursive Fibonacci \n",
    "\n",
    "```\n",
    "PROGRAM FibRec(n):\n",
    "    if n == 0:\n",
    "        return 0;\n",
    "    else if n == 1:\n",
    "        return 1;\n",
    "    else:\n",
    "        return FibRec(n-1) + FibRec(n-2)\n",
    "```\n"
   ]
  },
  {
   "cell_type": "code",
   "execution_count": 2,
   "metadata": {},
   "outputs": [],
   "source": [
    "def FibRec(n):\n",
    "    if n == 0:\n",
    "        return 0 \n",
    "    elif n == 1:\n",
    "        return 1\n",
    "    else:\n",
    "        return FibRec(n-1) + FibRec(n - 2)"
   ]
  },
  {
   "cell_type": "markdown",
   "metadata": {},
   "source": [
    "# Recursive Fibonacci with Memory \n",
    "\n",
    "```\n",
    "PROGRAM FibRecMem(n):\n",
    "    global Mem[0,n] = [0, 1, None(1), None(2), ... , None(n)]\n",
    "    if n == 0:\n",
    "        return 0;\n",
    "    else if n == 1:\n",
    "        return 1;\n",
    "    else if Mem[n] == None:\n",
    "        Mem[n] = FibRecMem(n-1) + FibRecMem(n-2)\n",
    "    else:\n",
    "        return Mem[n]\n",
    "```\n"
   ]
  },
  {
   "cell_type": "code",
   "execution_count": 54,
   "metadata": {},
   "outputs": [],
   "source": [
    "def FibRecMem(n):\n",
    "    Mem = [None for _ in range(n+1)]\n",
    "    def fib(n):\n",
    "        if n == 0:\n",
    "            return 0\n",
    "        elif n == 1:\n",
    "            return 1\n",
    "        elif not Mem[n]:\n",
    "            Mem[n] = fib(n-1) + fib(n-2)\n",
    "        return Mem[n]\n",
    "    return fib(n)"
   ]
  },
  {
   "cell_type": "markdown",
   "metadata": {},
   "source": [
    "# Dinamic Programming (PD) Fibonacci\n",
    "\n",
    "```\n",
    "PROGRAM PD_Fib(n):\n",
    "    a: int = 0 \n",
    "    b: int = 1 \n",
    "    if n == 0:\n",
    "        return 0;\n",
    "    else if n == 1:\n",
    "        return 1;\n",
    "    for i in [0,1,...,n]:\n",
    "        c = a + b \n",
    "        a = b \n",
    "        b = c \n",
    "    return c \n",
    "```"
   ]
  },
  {
   "cell_type": "code",
   "execution_count": 55,
   "metadata": {},
   "outputs": [],
   "source": [
    "def PDFib(n):\n",
    "    a = 0 \n",
    "    b = 1 \n",
    "    if n == 0:\n",
    "        return 0 \n",
    "    elif n == 1: \n",
    "        return 1 \n",
    "    else:\n",
    "        for i in range(1, n):\n",
    "            c = a + b\n",
    "            a = b \n",
    "            b = c \n",
    "    return c"
   ]
  },
  {
   "cell_type": "markdown",
   "metadata": {},
   "source": [
    "# Test Functions "
   ]
  },
  {
   "cell_type": "code",
   "execution_count": 63,
   "metadata": {},
   "outputs": [
    {
     "name": "stdout",
     "output_type": "stream",
     "text": [
      "0\n",
      "1\n",
      "2\n",
      "3\n",
      "4\n",
      "5\n",
      "6\n",
      "7\n",
      "8\n",
      "9\n",
      "10\n",
      "11\n",
      "12\n",
      "13\n",
      "14\n",
      "15\n",
      "16\n",
      "17\n",
      "18\n",
      "19\n",
      "20\n",
      "21\n",
      "22\n",
      "23\n",
      "24\n",
      "25\n",
      "26\n",
      "27\n",
      "28\n",
      "29\n",
      "30\n",
      "31\n",
      "32\n",
      "33\n",
      "34\n",
      "35\n"
     ]
    }
   ],
   "source": [
    "for i in range (36):\n",
    "    a = PDFib(i)\n",
    "    b = FibRecMem(i)\n",
    "    c = FibRec(i)\n",
    "    print(i)\n",
    "    assert a == b and a == c and b == c"
   ]
  },
  {
   "cell_type": "code",
   "execution_count": 66,
   "metadata": {},
   "outputs": [
    {
     "data": {
      "text/plain": [
       "{'PDFib': {'time': 8.821487426757812e-06, 'result': 9227465},\n",
       " 'FibRecMem': {'time': 0.014153003692626953, 'result': 9227465},\n",
       " 'FibRec': {'time': 5.9812867641448975, 'result': 9227465}}"
      ]
     },
     "execution_count": 66,
     "metadata": {},
     "output_type": "execute_result"
    }
   ],
   "source": [
    "from time import time \n",
    "\n",
    "class TestFibs:\n",
    "    def __init__(self, n, assertion = False):\n",
    "        self.n = n\n",
    "        self.assertion = assertion\n",
    "        self._assertion_test()\n",
    "\n",
    "    def _assertion_test(self):\n",
    "        if self.assertion:    \n",
    "            for i in range (self.n + 1):\n",
    "                a = PDFib(i)\n",
    "                b = FibRecMem(i)\n",
    "                c = FibRec(i)\n",
    "                print(i)\n",
    "                assert a == b and a == c and b == c\n",
    "\n",
    "    def test(self):\n",
    "        n = self.n\n",
    "        s = time()\n",
    "        a = PDFib(n)\n",
    "        time_a = time() - s\n",
    "\n",
    "        s = time()\n",
    "        b = FibRecMem(n)\n",
    "        time_b = time() - s\n",
    "\n",
    "        s = time()\n",
    "        c = FibRec(n)\n",
    "        time_c = time() - s\n",
    "\n",
    "        return {\n",
    "            \"PDFib\": {\n",
    "                \"time\": time_a,\n",
    "                \"result\": a\n",
    "            },\n",
    "            \"FibRecMem\": {\n",
    "                \"time\": time_b,\n",
    "                \"result\": b\n",
    "            },\n",
    "            \"FibRec\": {\n",
    "                \"time\": time_c,\n",
    "                \"result\": c\n",
    "            }        \n",
    "        }\n",
    "\n",
    "TestFibs(35).test()"
   ]
  },
  {
   "cell_type": "code",
   "execution_count": null,
   "metadata": {},
   "outputs": [],
   "source": []
  }
 ],
 "metadata": {
  "interpreter": {
   "hash": "68cb9320d085777fee248f1572e364491dce6ec61d536af2771ac2383c024120"
  },
  "kernelspec": {
   "display_name": "Python 3.9.10 ('venv': venv)",
   "language": "python",
   "name": "python3"
  },
  "language_info": {
   "codemirror_mode": {
    "name": "ipython",
    "version": 3
   },
   "file_extension": ".py",
   "mimetype": "text/x-python",
   "name": "python",
   "nbconvert_exporter": "python",
   "pygments_lexer": "ipython3",
   "version": "3.9.10"
  },
  "orig_nbformat": 4
 },
 "nbformat": 4,
 "nbformat_minor": 2
}
