{
  "cells": [
    {
      "cell_type": "markdown",
      "metadata": {
        "id": "dYXRA26pnJ1V"
      },
      "source": [
        "# **Atividade 1**\n",
        "\n",
        "Abaixo encontra-se a classe Dataset e os datasets gerados que serão usados na Atividade 1. As buscas pedidas na Atividade 1 serão feitas utilizando o método `search` da classe Dataset.\n",
        "\n",
        "Importante lembrar que o código da classe Dataset não precisa ser alterado. Recomenda-se leitura e entendimento do mesmo."
      ]
    },
    {
      "cell_type": "code",
      "execution_count": 2,
      "metadata": {
        "id": "TnVf2MycnFl6"
      },
      "outputs": [],
      "source": [
        "import time\n",
        "import random\n",
        "\n",
        "\n",
        "class Dataset(object):\n",
        "\n",
        "    def __init__(self, struct_type, size):\n",
        "        self.struct_type = struct_type\n",
        "        self.size = size\n",
        "        self.items = self._generate_dataset()\n",
        "\n",
        "    @staticmethod\n",
        "    def generate_cpf():\n",
        "    \n",
        "        cpf = [random.randint(0, 9) for x in range(11)]                              \n",
        "                                      \n",
        "        # for _ in range(2):                                                          \n",
        "        #     val = sum([(len(cpf) + 1 - i) * v for i, v in enumerate(cpf)]) % 11      \n",
        "                                                                                \n",
        "        #     cpf.append(11 - val if val > 1 else 0)                                  \n",
        "                                                                                \n",
        "        return '%s%s%s.%s%s%s.%s%s%s-%s%s' % tuple(cpf)\n",
        "\n",
        "    def _generate_dataset(self):\n",
        "\n",
        "        if self.struct_type == 'structure_1':\n",
        "            return sorted([Dataset.generate_cpf() for n in range(self.size)])\n",
        "\n",
        "        elif self.struct_type == 'structure_2':\n",
        "            return {Dataset.generate_cpf(): i for i, _ in enumerate(range(self.size))}\n",
        "        else:\n",
        "            raise Exception('struct_type must be \"structure_1\" or \"structure_2\"')\n",
        "\n",
        "    def _function_1(self, value):\n",
        "        \n",
        "        found = False\n",
        "        for item in self.items:\n",
        "\n",
        "            if item == value:\n",
        "                found = True\n",
        "                break\n",
        "\n",
        "        return found\n",
        "\n",
        "    def _function_2(self, value):\n",
        "        \n",
        "        start, end = 0, len(self.items) - 1\n",
        "\n",
        "        while start <= end:\n",
        "\n",
        "            mid = start + (end - start) // 2\n",
        "            if value > self.items[mid]:\n",
        "                start = mid + 1\n",
        "            elif value < self.items[mid]:\n",
        "                end = mid - 1\n",
        "            else:\n",
        "                return mid\n",
        "\n",
        "        return -1\n",
        "\n",
        "    def _function_3(self, value):\n",
        "        return self.items.get(value)\n",
        "\n",
        "    def search(self, value, search_type):\n",
        "\n",
        "        if self.struct_type == 'structure_1':\n",
        "\n",
        "            if search_type == 'function_1':\n",
        "                self._function_1(value)\n",
        "            elif search_type == 'function_2':\n",
        "                self._function_2(value)\n",
        "            else:\n",
        "                raise Exception('search_type of Structure1Dataset must be \"function_1\" or \"function_2\"')\n",
        "\n",
        "        elif self.struct_type == 'structure_2':\n",
        "\n",
        "            if search_type == 'function_3':\n",
        "                self._function_3(value)\n",
        "            else:\n",
        "                raise Exception('search_type of Structure2Dataset must be \"function_3\"')\n",
        "\n",
        "                "
      ]
    },
    {
      "cell_type": "markdown",
      "metadata": {
        "id": "MdH5uSMAfcnX"
      },
      "source": [
        "## *Exemplo de Criação dos Datasets*\n",
        "\n",
        "O exemplo abaixo será usado para executar **2 tipos de busca**: function_1 e function_2.\n",
        "\n"
      ]
    },
    {
      "cell_type": "code",
      "execution_count": 8,
      "metadata": {
        "id": "0HqP72aUoYRt"
      },
      "outputs": [],
      "source": [
        "structure_1_dataset_10 = Dataset('structure_1', 10)\n",
        "# structure_1_dataset_100 = Dataset('structure_1', 100)\n",
        "# structure_1_dataset_1000 = Dataset('structure_1', 1000)\n",
        "# structure_1_dataset_10000 = Dataset('structure_1', 10000)\n",
        "# structure_1_dataset_100000 = Dataset('structure_1', 100000)\n",
        "# structure_1_dataset_1000000 = Dataset('structure_1', 1000000)"
      ]
    },
    {
      "cell_type": "code",
      "execution_count": 12,
      "metadata": {},
      "outputs": [
        {
          "data": {
            "text/plain": [
              "['049.913.748-30',\n",
              " '368.928.123-83',\n",
              " '452.925.096-74',\n",
              " '587.246.943-89',\n",
              " '694.356.864-85',\n",
              " '844.155.816-31',\n",
              " '865.480.316-27',\n",
              " '868.798.930-66',\n",
              " '924.177.035-25',\n",
              " '968.487.494-64']"
            ]
          },
          "execution_count": 12,
          "metadata": {},
          "output_type": "execute_result"
        }
      ],
      "source": [
        "structure_1_dataset_10.items #list"
      ]
    },
    {
      "cell_type": "markdown",
      "metadata": {
        "id": "q6hjS-swodTq"
      },
      "source": [
        "O exemplo abaixo será usado para executar **1 tipo de busca**: function_3\n"
      ]
    },
    {
      "cell_type": "code",
      "execution_count": 11,
      "metadata": {
        "id": "5v5R_dy5oh3T"
      },
      "outputs": [],
      "source": [
        "structure_2_dataset_10 = Dataset('structure_2', 10)\n",
        "# structure_2_dataset_100 = Dataset('structure_2', 100)\n",
        "# structure_2_dataset_1000 = Dataset('structure_2', 1000)\n",
        "# structure_2_dataset_10000 = Dataset('structure_2', 10000)\n",
        "# structure_2_dataset_100000 = Dataset('structure_2', 100000)\n",
        "# structure_2_dataset_1000000 = Dataset('structure_2', 1000000)"
      ]
    },
    {
      "cell_type": "code",
      "execution_count": 13,
      "metadata": {},
      "outputs": [
        {
          "data": {
            "text/plain": [
              "{'588.484.179-82': 0,\n",
              " '714.665.218-87': 1,\n",
              " '760.620.318-56': 2,\n",
              " '520.083.631-44': 3,\n",
              " '168.304.820-61': 4,\n",
              " '358.635.910-00': 5,\n",
              " '994.645.931-46': 6,\n",
              " '021.674.779-74': 7,\n",
              " '469.077.962-42': 8,\n",
              " '393.988.442-88': 9}"
            ]
          },
          "execution_count": 13,
          "metadata": {},
          "output_type": "execute_result"
        }
      ],
      "source": [
        "structure_2_dataset_10.items # dictionary"
      ]
    },
    {
      "cell_type": "markdown",
      "metadata": {
        "id": "7uYEjXi5okvi"
      },
      "source": [
        "Cada teste envolverá um tamanho de conjunto de dados e uma função de busca. No mesmo serão realizadas **10000 buscas** por chaves geradas aleatoriamente e o **tempo total do teste** será colocado na tabela da Atividade 1.\n",
        "\n",
        "As função citadas no enunciado da Atividade 1 são, respectivamente: `function_1`, `function_2` e `function_3`. As buscas `function_1` e `function_2` devem ser executadas em datasets do tipo `structure_1` e buscas do tipo `function_3` devem ser executadas em datasets do tipo `structure_2`.\n",
        "\n",
        "Abaixo está o código para preenchimento da primeira linha da tabela:"
      ]
    },
    {
      "cell_type": "code",
      "execution_count": null,
      "metadata": {
        "colab": {
          "base_uri": "https://localhost:8080/"
        },
        "id": "MjeZpWAMfa2i",
        "outputId": "0dde3ad2-5bcb-453c-811e-8f06ef621006"
      },
      "outputs": [
        {
          "name": "stdout",
          "output_type": "stream",
          "text": [
            "0.008563518524169922 0.014509916305541992 0.00558781623840332\n"
          ]
        }
      ],
      "source": [
        "def search(dataset, search_type):\n",
        "\n",
        "    # número de buscas, não mexer neste parâmetro\n",
        "    search_batch = 10_000\n",
        "\n",
        "    # gerando CPFs aleatórios para busca\n",
        "    cpf_to_search = [Dataset.generate_cpf() for _ in range(search_batch)]\n",
        "\n",
        "    start = time.time()\n",
        "    for i in range(search_batch): # buscando\n",
        "        dataset.search(cpf_to_search[i], search_type)\n",
        "    \n",
        "    return time.time() - start\n",
        "\n",
        "\n",
        "structure_1_dataset_function_1_time = search(structure_1_dataset_10, 'function_1')\n",
        "structure_1_dataset_function_2_time = search(structure_1_dataset_10, 'function_2')\n",
        "structure_2_dataset_function_3_time = search(structure_2_dataset_10, 'function_3')\n",
        "\n",
        "print(structure_1_dataset_function_1_time,\n",
        "      structure_1_dataset_function_2_time,\n",
        "      structure_2_dataset_function_3_time)"
      ]
    },
    {
      "cell_type": "markdown",
      "metadata": {
        "id": "1sgdPoYw9T60"
      },
      "source": [
        "Tentem preencher o maior número de campos da tabela usando o exemplo visto neste documento. As dúvidas podem ser tiradas com os professores durante os horários de antendimento."
      ]
    },
    {
      "cell_type": "markdown",
      "metadata": {},
      "source": [
        "# Benchmark das Buscas"
      ]
    },
    {
      "cell_type": "code",
      "execution_count": 3,
      "metadata": {},
      "outputs": [],
      "source": [
        "from enum import Enum\n",
        "from math import pow\n",
        "from tqdm import tqdm \n",
        "\n",
        "class FunctionTypes(str, Enum):\n",
        "    FUNCTION_1 = \"function_1\"\n",
        "    FUNCTION_2 = \"function_2\"\n",
        "    FUNCTION_3 = \"function_3\"\n",
        "\n",
        "class TestFunction:\n",
        "    def __init__(self, function: str, depth: int = None, size: int = None):\n",
        "        \"\"\"Benchmark function performance.\n",
        "        \n",
        "        param: function: function that will be test. Must be one of FunctionTypes.\n",
        "        type: str\n",
        "        param: depth: If test is recursive, depth is size of the datasets created \n",
        "            in the range [10ˆ1, ..., 10ˆdepth]. If set, size must be None.\n",
        "        type: int\n",
        "        param: size: Size of the dataset to test the function. If set, depth must be None. \n",
        "        type: int        \n",
        "        \"\"\"\n",
        "        self.function = function \n",
        "        self.depth = depth\n",
        "        self.size = size\n",
        "        self._validate_params()\n",
        "        self._validate_function()\n",
        "    \n",
        "    def _validate_function(self):\n",
        "        if not (\n",
        "            self.function.lower() == FunctionTypes.FUNCTION_1 or\n",
        "            self.function.lower() == FunctionTypes.FUNCTION_2 or\n",
        "            self.function.lower() == FunctionTypes.FUNCTION_3 \n",
        "        ):\n",
        "            raise ValueError(\n",
        "                f\"Passed `function` {self.function} not allowed. \"\n",
        "                f\"`function` must be one of the following: \"\n",
        "                f\"{FunctionTypes.FUNCTION_1} or {FunctionTypes.FUNCTION_2} or {FunctionTypes.FUNCTION_3}\"\n",
        "            )\n",
        "    \n",
        "    def _validate_params(self):\n",
        "        if self.depth and self.size:\n",
        "            raise ValueError(\n",
        "                f\"Both `depth` and `size` passed\"\n",
        "                f\"`depth` and `size` parameters must be used separately.\"\n",
        "            )   \n",
        "\n",
        "    \n",
        "    @staticmethod\n",
        "    def _search(dataset, search_type):\n",
        "\n",
        "        # número de buscas, não mexer neste parâmetro\n",
        "        search_batch = 10_000\n",
        "\n",
        "        # gerando CPFs aleatórios para busca\n",
        "        cpf_to_search = [Dataset.generate_cpf() for _ in range(search_batch)]\n",
        "\n",
        "        start = time.time()\n",
        "        for i in range(search_batch): # buscando\n",
        "            dataset.search(cpf_to_search[i], search_type)\n",
        "        \n",
        "        return time.time() - start\n",
        "    \n",
        "    @staticmethod\n",
        "    def _get_dataset(structure, size):\n",
        "        return Dataset(structure, size)\n",
        "\n",
        "    def _test_function(self, structure: str, function: str):\n",
        "        \n",
        "        if self.depth:\n",
        "            datasets = {\n",
        "                f\"dataset_{pow(10, _)}\": \n",
        "                self._get_dataset(structure,int(pow(10, _)))\n",
        "                for _ in tqdm(iterable=range(1, self.depth+1), desc=\"Generating Datasets\")\n",
        "            }\n",
        "        elif self.size:\n",
        "            datasets = {\n",
        "                f\"dataset_{pow(10, self.size)}\": \n",
        "                self._get_dataset(structure,int(pow(10, self.size)))\n",
        "                for _ in tqdm(range(1), desc=\"Generating Dataset\")\n",
        "            }            \n",
        "\n",
        "        benchmark = {}\n",
        "\n",
        "        for label, dataset in tqdm(iterable=datasets.items(), desc=\"Running Tests\"):\n",
        "            benchmark[label] = self._search(dataset=dataset, search_type=function)\n",
        "        \n",
        "        return benchmark\n",
        "    \n",
        "    def test(self):\n",
        "        if self.function.lower() == FunctionTypes.FUNCTION_1:\n",
        "            return self._test_function(\"structure_1\", \"function_1\")\n",
        "        elif self.function.lower() == FunctionTypes.FUNCTION_2:\n",
        "            return self._test_function(\"structure_1\", \"function_2\")\n",
        "        elif self.function.lower() == FunctionTypes.FUNCTION_3:\n",
        "            return self._test_function(\"structure_2\", \"function_3\")"
      ]
    },
    {
      "cell_type": "markdown",
      "metadata": {},
      "source": [
        "## function 1 "
      ]
    },
    {
      "cell_type": "code",
      "execution_count": 5,
      "metadata": {},
      "outputs": [
        {
          "name": "stderr",
          "output_type": "stream",
          "text": [
            "Generating Datasets: 100%|██████████| 4/4 [00:00<00:00, 19.90it/s]\n",
            "Running Tests: 100%|██████████| 4/4 [00:04<00:00,  1.24s/it]\n"
          ]
        },
        {
          "data": {
            "text/plain": [
              "{'dataset_10.0': 0.008394002914428711,\n",
              " 'dataset_100.0': 0.038802146911621094,\n",
              " 'dataset_1000.0': 0.29375410079956055,\n",
              " 'dataset_10000.0': 4.0055992603302}"
            ]
          },
          "execution_count": 5,
          "metadata": {},
          "output_type": "execute_result"
        }
      ],
      "source": [
        "TestFunction(\"function_1\", depth=4).test()"
      ]
    },
    {
      "cell_type": "code",
      "execution_count": 4,
      "metadata": {},
      "outputs": [
        {
          "name": "stderr",
          "output_type": "stream",
          "text": [
            "Generating Dataset: 100%|██████████| 1/1 [00:01<00:00,  1.31s/it]\n",
            "Running Tests: 100%|██████████| 1/1 [01:02<00:00, 62.10s/it]\n"
          ]
        },
        {
          "data": {
            "text/plain": [
              "{'dataset_100000.0': 61.967676877975464}"
            ]
          },
          "execution_count": 4,
          "metadata": {},
          "output_type": "execute_result"
        }
      ],
      "source": [
        "TestFunction(\"function_1\", size=5).test()"
      ]
    },
    {
      "cell_type": "code",
      "execution_count": 5,
      "metadata": {},
      "outputs": [
        {
          "name": "stderr",
          "output_type": "stream",
          "text": [
            "Generating Dataset: 100%|██████████| 1/1 [00:12<00:00, 12.99s/it]\n",
            "Running Tests: 100%|██████████| 1/1 [31:48<00:00, 1908.72s/it]\n"
          ]
        },
        {
          "data": {
            "text/plain": [
              "{'dataset_1000000.0': 1908.5389211177826}"
            ]
          },
          "execution_count": 5,
          "metadata": {},
          "output_type": "execute_result"
        }
      ],
      "source": [
        "TestFunction(\"function_1\", size=6).test()\n",
        "\n",
        "# took 30+ minutes."
      ]
    },
    {
      "cell_type": "markdown",
      "metadata": {},
      "source": [
        "### test results \n",
        "* Sizes 1 to 4 \n",
        "```json\n",
        "{'dataset_10.0': 0.008394002914428711,\n",
        " 'dataset_100.0': 0.038802146911621094,\n",
        " 'dataset_1000.0': 0.29375410079956055,\n",
        " 'dataset_10000.0': 4.0055992603302}\n",
        "```\n",
        "\n",
        "* Size 5\n",
        "```json\n",
        "{'dataset_100000.0': 61.967676877975464}\n",
        "```\n",
        "\n",
        "* Size 6\n",
        "```json\n",
        "{'dataset_1000000.0': 1908.5389211177826}\n",
        "```\n",
        "\n",
        "\n",
        "* **Sizes are powers of 10; so size 1 equals 10ˆ1, an so on**\n",
        "* **Times are in seconds**"
      ]
    },
    {
      "cell_type": "markdown",
      "metadata": {},
      "source": [
        "## function 2 "
      ]
    },
    {
      "cell_type": "code",
      "execution_count": 6,
      "metadata": {},
      "outputs": [
        {
          "name": "stderr",
          "output_type": "stream",
          "text": [
            "Generating Datasets: 100%|██████████| 6/6 [00:14<00:00,  2.37s/it]\n",
            "Running Tests: 100%|██████████| 6/6 [00:01<00:00,  5.99it/s]\n"
          ]
        },
        {
          "data": {
            "text/plain": [
              "{'dataset_10.0': 0.012237787246704102,\n",
              " 'dataset_100.0': 0.02039313316345215,\n",
              " 'dataset_1000.0': 0.030492067337036133,\n",
              " 'dataset_10000.0': 0.04291486740112305,\n",
              " 'dataset_100000.0': 0.05736112594604492,\n",
              " 'dataset_1000000.0': 0.07862281799316406}"
            ]
          },
          "execution_count": 6,
          "metadata": {},
          "output_type": "execute_result"
        }
      ],
      "source": [
        "TestFunction(\"function_2\", depth=6).test()"
      ]
    },
    {
      "cell_type": "markdown",
      "metadata": {},
      "source": [
        "### test results \n",
        "* Sizes 1 to 4 \n",
        "```json\n",
        "{'dataset_10.0': 0.012237787246704102,\n",
        " 'dataset_100.0': 0.02039313316345215,\n",
        " 'dataset_1000.0': 0.030492067337036133,\n",
        " 'dataset_10000.0': 0.04291486740112305,\n",
        " 'dataset_100000.0': 0.05736112594604492,\n",
        " 'dataset_1000000.0': 0.07862281799316406}\n",
        "```\n",
        "\n",
        "\n",
        "* **Sizes are powers of 10; so size 1 equals 10ˆ1, an so on**\n",
        "* **Times are in seconds**"
      ]
    },
    {
      "cell_type": "markdown",
      "metadata": {},
      "source": [
        "## function 3"
      ]
    },
    {
      "cell_type": "code",
      "execution_count": 7,
      "metadata": {},
      "outputs": [
        {
          "name": "stderr",
          "output_type": "stream",
          "text": [
            "Generating Datasets: 100%|██████████| 6/6 [00:14<00:00,  2.37s/it]\n",
            "Running Tests: 100%|██████████| 6/6 [00:00<00:00,  7.68it/s]\n"
          ]
        },
        {
          "data": {
            "text/plain": [
              "{'dataset_10.0': 0.005402803421020508,\n",
              " 'dataset_100.0': 0.0050182342529296875,\n",
              " 'dataset_1000.0': 0.00493311882019043,\n",
              " 'dataset_10000.0': 0.005335092544555664,\n",
              " 'dataset_100000.0': 0.005398988723754883,\n",
              " 'dataset_1000000.0': 0.006265163421630859}"
            ]
          },
          "execution_count": 7,
          "metadata": {},
          "output_type": "execute_result"
        }
      ],
      "source": [
        "TestFunction(\"function_3\", depth=6).test()"
      ]
    },
    {
      "cell_type": "markdown",
      "metadata": {},
      "source": [
        "### test results \n",
        "* Sizes 1 to 4 \n",
        "```json\n",
        "{'dataset_10.0': 0.005402803421020508,\n",
        " 'dataset_100.0': 0.0050182342529296875,\n",
        " 'dataset_1000.0': 0.00493311882019043,\n",
        " 'dataset_10000.0': 0.005335092544555664,\n",
        " 'dataset_100000.0': 0.005398988723754883,\n",
        " 'dataset_1000000.0': 0.006265163421630859}\n",
        "```\n",
        "\n",
        "\n",
        "* **Sizes are powers of 10; so size 1 equals 10ˆ1, an so on**\n",
        "* **Times are in seconds**"
      ]
    }
  ],
  "metadata": {
    "colab": {
      "collapsed_sections": [],
      "name": "MBA - MLP - Atividade 1",
      "provenance": []
    },
    "kernelspec": {
      "display_name": "Python 3",
      "name": "python3"
    },
    "language_info": {
      "codemirror_mode": {
        "name": "ipython",
        "version": 3
      },
      "file_extension": ".py",
      "mimetype": "text/x-python",
      "name": "python",
      "nbconvert_exporter": "python",
      "pygments_lexer": "ipython3",
      "version": "3.9.10"
    }
  },
  "nbformat": 4,
  "nbformat_minor": 0
}
